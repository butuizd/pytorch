{
 "cells": [
  {
   "cell_type": "code",
   "execution_count": 1,
   "metadata": {},
   "outputs": [],
   "source": [
    "from models import LinearRegression as L"
   ]
  },
  {
   "cell_type": "code",
   "execution_count": 2,
   "metadata": {},
   "outputs": [],
   "source": [
    "import torch\n",
    "from torch import nn, optim\n",
    "from torch.autograd import Variable"
   ]
  },
  {
   "cell_type": "code",
   "execution_count": 9,
   "metadata": {},
   "outputs": [],
   "source": [
    "import matplotlib.pyplot as plt"
   ]
  },
  {
   "cell_type": "code",
   "execution_count": 3,
   "metadata": {},
   "outputs": [],
   "source": [
    "model = L()"
   ]
  },
  {
   "cell_type": "code",
   "execution_count": 16,
   "metadata": {},
   "outputs": [
    {
     "name": "stdout",
     "output_type": "stream",
     "text": [
      "[1, 2, 3, 4, 5]\n",
      "20/2000 loss:0.013031\n",
      "40/2000 loss:0.007551\n",
      "60/2000 loss:0.005414\n",
      "80/2000 loss:0.004560\n",
      "100/2000 loss:0.004199\n",
      "120/2000 loss:0.004028\n",
      "140/2000 loss:0.003930\n",
      "160/2000 loss:0.003860\n",
      "180/2000 loss:0.003802\n",
      "200/2000 loss:0.003748\n",
      "220/2000 loss:0.003697\n",
      "240/2000 loss:0.003647\n",
      "260/2000 loss:0.003598\n",
      "280/2000 loss:0.003549\n",
      "300/2000 loss:0.003502\n",
      "320/2000 loss:0.003454\n",
      "340/2000 loss:0.003408\n",
      "360/2000 loss:0.003362\n",
      "380/2000 loss:0.003317\n",
      "400/2000 loss:0.003273\n",
      "420/2000 loss:0.003229\n",
      "440/2000 loss:0.003185\n",
      "460/2000 loss:0.003142\n",
      "480/2000 loss:0.003100\n",
      "500/2000 loss:0.003059\n",
      "520/2000 loss:0.003017\n",
      "540/2000 loss:0.002977\n",
      "560/2000 loss:0.002937\n",
      "580/2000 loss:0.002897\n",
      "600/2000 loss:0.002859\n",
      "620/2000 loss:0.002820\n",
      "640/2000 loss:0.002782\n",
      "660/2000 loss:0.002745\n",
      "680/2000 loss:0.002708\n",
      "700/2000 loss:0.002672\n",
      "720/2000 loss:0.002636\n",
      "740/2000 loss:0.002600\n",
      "760/2000 loss:0.002565\n",
      "780/2000 loss:0.002531\n",
      "800/2000 loss:0.002497\n",
      "820/2000 loss:0.002463\n",
      "840/2000 loss:0.002430\n",
      "860/2000 loss:0.002398\n",
      "880/2000 loss:0.002365\n",
      "900/2000 loss:0.002334\n",
      "920/2000 loss:0.002302\n",
      "940/2000 loss:0.002271\n",
      "960/2000 loss:0.002241\n",
      "980/2000 loss:0.002211\n",
      "1000/2000 loss:0.002181\n",
      "1020/2000 loss:0.002152\n",
      "1040/2000 loss:0.002123\n",
      "1060/2000 loss:0.002094\n",
      "1080/2000 loss:0.002066\n",
      "1100/2000 loss:0.002038\n",
      "1120/2000 loss:0.002011\n",
      "1140/2000 loss:0.001984\n",
      "1160/2000 loss:0.001957\n",
      "1180/2000 loss:0.001931\n",
      "1200/2000 loss:0.001905\n",
      "1220/2000 loss:0.001880\n",
      "1240/2000 loss:0.001854\n",
      "1260/2000 loss:0.001829\n",
      "1280/2000 loss:0.001805\n",
      "1300/2000 loss:0.001781\n",
      "1320/2000 loss:0.001757\n",
      "1340/2000 loss:0.001733\n",
      "1360/2000 loss:0.001710\n",
      "1380/2000 loss:0.001687\n",
      "1400/2000 loss:0.001664\n",
      "1420/2000 loss:0.001642\n",
      "1440/2000 loss:0.001620\n",
      "1460/2000 loss:0.001598\n",
      "1480/2000 loss:0.001576\n",
      "1500/2000 loss:0.001555\n",
      "1520/2000 loss:0.001534\n",
      "1540/2000 loss:0.001514\n",
      "1560/2000 loss:0.001493\n",
      "1580/2000 loss:0.001473\n",
      "1600/2000 loss:0.001454\n",
      "1620/2000 loss:0.001434\n",
      "1640/2000 loss:0.001415\n",
      "1660/2000 loss:0.001396\n",
      "1680/2000 loss:0.001377\n",
      "1700/2000 loss:0.001359\n",
      "1720/2000 loss:0.001340\n",
      "1740/2000 loss:0.001322\n",
      "1760/2000 loss:0.001305\n",
      "1780/2000 loss:0.001287\n",
      "1800/2000 loss:0.001270\n",
      "1820/2000 loss:0.001253\n",
      "1840/2000 loss:0.001236\n",
      "1860/2000 loss:0.001219\n",
      "1880/2000 loss:0.001203\n",
      "1900/2000 loss:0.001187\n",
      "1920/2000 loss:0.001171\n",
      "1940/2000 loss:0.001155\n",
      "1960/2000 loss:0.001140\n",
      "1980/2000 loss:0.001124\n",
      "2000/2000 loss:0.001109\n"
     ]
    }
   ],
   "source": [
    "x = [1,2,3,4,5]\n",
    "y = [1,2,3,4,5]\n",
    "x_train = torch.Tensor([[i] for i in x])\n",
    "y_train = torch.Tensor([[i] for i in y])\n",
    "print(x)\n",
    "num = 2000\n",
    "\n",
    "criterion = nn.MSELoss()\n",
    "optimizer = optim.SGD(model.parameters(), lr = 1e-3)\n",
    "\n",
    "for i in range(num):\n",
    "    inputs = Variable(x_train)\n",
    "    target = Variable(y_train)\n",
    "    \n",
    "    #forward\n",
    "    out = model(inputs) #??\n",
    "    loss =criterion(out, target)\n",
    "    \n",
    "    #backward\n",
    "    optimizer.zero_grad()\n",
    "    loss.backward()\n",
    "    optimizer.step()\n",
    "    \n",
    "    if (i+1) % 20 == 0:\n",
    "        print('{}/{} loss:{:.6f}'.format(i+1, num, loss.item()))"
   ]
  },
  {
   "cell_type": "code",
   "execution_count": 17,
   "metadata": {},
   "outputs": [
    {
     "data": {
      "image/png": "[encoded data removed]",
      "text/plain": [
       "<Figure size 432x288 with 1 Axes>"
      ]
     },
     "metadata": {
      "needs_background": "light"
     },
     "output_type": "display_data"
    }
   ],
   "source": [
    "model.eval()\n",
    "xx = torch.Tensor([[2],[4],[6],[8],[10]])\n",
    "yy = model(Variable(x_train))\n",
    "plt.plot(x,y,'ro')\n",
    "plt.plot(x_train.numpy(), yy.data.numpy())\n",
    "plt.show()"
   ]
  }
 ],
 "metadata": {
  "kernelspec": {
   "display_name": "Python 3",
   "language": "python",
   "name": "python3"
  },
  "language_info": {
   "codemirror_mode": {
    "name": "ipython",
    "version": 3
   },
   "file_extension": ".py",
   "mimetype": "text/x-python",
   "name": "python",
   "nbconvert_exporter": "python",
   "pygments_lexer": "ipython3",
   "version": "3.6.7rc1"
  }
 },
 "nbformat": 4,
 "nbformat_minor": 2
}
