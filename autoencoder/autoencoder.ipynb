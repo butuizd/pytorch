{
 "cells": [
  {
   "cell_type": "markdown",
   "metadata": {},
   "source": [
    "# 自动编码器"
   ]
  },
  {
   "cell_type": "code",
   "execution_count": 1,
   "metadata": {},
   "outputs": [],
   "source": [
    "batch_size = 64"
   ]
  },
  {
   "cell_type": "code",
   "execution_count": 2,
   "metadata": {},
   "outputs": [],
   "source": [
    "from torchvision import datasets, transforms\n",
    "from torch.utils.data import DataLoader\n",
    "data_tf = transforms.Compose([transforms.ToTensor(), transforms.Normalize([0.5], [0.5])])\n",
    "\n",
    "# train属性是区别并对应加载训练集和测试机\n",
    "train_dataset = datasets.MNIST(root='./data', train=True, transform=data_tf)\n",
    "train_loader = DataLoader(train_dataset, batch_size=batch_size, shuffle=True)"
   ]
  },
  {
   "cell_type": "markdown",
   "metadata": {},
   "source": [
    "#### 网络结构"
   ]
  },
  {
   "cell_type": "code",
   "execution_count": 3,
   "metadata": {},
   "outputs": [],
   "source": [
    "from torch import nn"
   ]
  },
  {
   "cell_type": "code",
   "execution_count": 4,
   "metadata": {},
   "outputs": [],
   "source": [
    "class autoencoder(nn.Module):\n",
    "    def __init__(self):\n",
    "        super(autoencoder, self).__init__()\n",
    "        self.encoder = nn.Sequential(\n",
    "            nn.Linear(28*28, 128),\n",
    "            nn.ReLU(True),\n",
    "            nn.Linear(128, 64),\n",
    "            nn.ReLU(True),\n",
    "            nn.Linear(64, 12),\n",
    "            nn.ReLU(True),\n",
    "            nn.Linear(12, 3)\n",
    "        )\n",
    "        self.decoder = nn.Sequential(\n",
    "            nn.Linear(3, 12),\n",
    "            nn.ReLU(True),\n",
    "            nn.Linear(12, 64),\n",
    "            nn.ReLU(True),\n",
    "            nn.Linear(64, 128),\n",
    "            nn.ReLU(True),\n",
    "            nn.Linear(128, 28*28),\n",
    "            nn.Tanh()\n",
    "        )\n",
    "    \n",
    "    def forward(self, x):\n",
    "        x = self.encoder(x)\n",
    "        x = self.decoder(x)\n",
    "        return x"
   ]
  },
  {
   "cell_type": "markdown",
   "metadata": {},
   "source": [
    "#### 训练模型"
   ]
  },
  {
   "cell_type": "markdown",
   "metadata": {},
   "source": [
    "<font color=red> Tensor.size()会显示一个矩阵，元素为个维度的数量，Tensor.size(num)则会显示num个维度数</font>"
   ]
  },
  {
   "cell_type": "markdown",
   "metadata": {},
   "source": [
    "<font color=red> Tensor.view(*args),比如Tensor.view(1,2)是返回一个将Tensor变成1x2规格的张量</font>"
   ]
  },
  {
   "cell_type": "markdown",
   "metadata": {},
   "source": [
    "<font color=red> Variable转Tensor： 只要使用Variable.data即可</font>"
   ]
  },
  {
   "cell_type": "code",
   "execution_count": 5,
   "metadata": {},
   "outputs": [],
   "source": [
    "from torch import Tensor"
   ]
  },
  {
   "cell_type": "code",
   "execution_count": null,
   "metadata": {},
   "outputs": [],
   "source": [
    "for img, label in train_loader:\n",
    "    break;\n",
    "img = img.view(img.size(0),28*28)\n",
    "#img.size()\n",
    "out = model(img)\n",
    "#print(out.size())\n",
    "#print(out[0].vie)\n",
    "print(out.size())\n",
    "test = to_image(out)\n",
    "#test = test.view(28, -1)\n",
    "#test\n",
    "test = scipy.misc.toimage(test.data, cmin=0.0, cmax=1.0).show()\n",
    "#print(type(test.data.numpy()))\n",
    "#print(test.data.numpy().size)"
   ]
  },
  {
   "cell_type": "code",
   "execution_count": null,
   "metadata": {},
   "outputs": [],
   "source": []
  },
  {
   "cell_type": "code",
   "execution_count": 6,
   "metadata": {},
   "outputs": [],
   "source": [
    "from torch import optim\n",
    "from torch.autograd import Variable\n",
    "import torch\n",
    "import scipy.misc"
   ]
  },
  {
   "cell_type": "code",
   "execution_count": 29,
   "metadata": {},
   "outputs": [],
   "source": [
    "model = autoencoder()"
   ]
  },
  {
   "cell_type": "code",
   "execution_count": 30,
   "metadata": {},
   "outputs": [],
   "source": [
    "#criterion = nn.MSELoss(size_average=False)\n",
    "criterion = nn.MSELoss()\n",
    "optimizer = optim.SGD(model.parameters(), lr = 1)"
   ]
  },
  {
   "cell_type": "code",
   "execution_count": null,
   "metadata": {},
   "outputs": [],
   "source": [
    "# 将输出拼接成图片\n",
    "def to_image(x):\n",
    "    result = x[0].view(28,28)\n",
    "    for i in range(batch_size-1):\n",
    "        result = torch.cat((result, x[i+1].view(28,28)), 1)\n",
    "    return result"
   ]
  },
  {
   "cell_type": "code",
   "execution_count": 21,
   "metadata": {},
   "outputs": [],
   "source": [
    "def to_image(x):\n",
    "    '''\n",
    "    定义一个函数将最后的结果转换回图片\n",
    "    \n",
    "    每个值在 -1 ~ 1，需要将其转变成0~1\n",
    "    '''\n",
    "    \n",
    "    x = 0.5 * (x + 1.)\n",
    "    #x = x.clamp(0, 1)\n",
    "    x = x.view(x.shape[0], 1, 28, 28)\n",
    "    return x"
   ]
  },
  {
   "cell_type": "code",
   "execution_count": 17,
   "metadata": {},
   "outputs": [],
   "source": [
    "from torchvision.utils import save_image"
   ]
  },
  {
   "cell_type": "code",
   "execution_count": 31,
   "metadata": {},
   "outputs": [
    {
     "name": "stdout",
     "output_type": "stream",
     "text": [
      "epoch 200, loss: 0.263280\n",
      "epoch 400, loss: 0.237367\n",
      "epoch 600, loss: 0.247771\n",
      "epoch 800, loss: 0.237100\n"
     ]
    }
   ],
   "source": [
    "model.train()\n",
    "num = 1000\n",
    "epoch = 0;\n",
    "for img, label in train_loader:\n",
    "    epoch += 1\n",
    "    img = img.view(img.size(0),-1)\n",
    "    img = Variable(img) # ++++++++\n",
    "    out = model(img)\n",
    "    #loss = criterion(out, img)\n",
    "    loss = criterion(out, img)\n",
    "    \n",
    "    optimizer.zero_grad()\n",
    "    loss.backward()\n",
    "    optimizer.step()\n",
    "    \n",
    "    #total_image = scipy.misc.toimage(to_image(out).data, cmin=0.0, cmax=1.0).save('./{}.jpg'.format(epoch))\n",
    "    if epoch % 200 ==0:\n",
    "        print('epoch {}, loss: {:.6f}'.format(epoch, loss.item()))\n",
    "        #total_image = scipy.misc.toimage(to_image(out.data), cmin=0.0, cmax=1.0).save('./{}.jpg'.format(epoch))\n",
    "        save_image(to_image(out.data), './lr_1_loss_no_ave/{}.png'.format(epoch))\n",
    "    if epoch==num:\n",
    "        break"
   ]
  },
  {
   "cell_type": "code",
   "execution_count": 32,
   "metadata": {},
   "outputs": [
    {
     "name": "stdout",
     "output_type": "stream",
     "text": [
      "epoch 200, loss: 0.279991\n",
      "epoch 400, loss: 0.238723\n",
      "epoch 600, loss: 0.224002\n",
      "epoch 800, loss: 0.221673\n"
     ]
    }
   ],
   "source": [
    "model = autoencoder()\n",
    "#criterion = nn.MSELoss(size_average=False)\n",
    "criterion = nn.MSELoss()\n",
    "optimizer = optim.SGD(model.parameters(), lr = 10)\n",
    "model.train()\n",
    "num = 1000\n",
    "epoch = 0;\n",
    "for img, label in train_loader:\n",
    "    epoch += 1\n",
    "    img = img.view(img.size(0),-1)\n",
    "    img = Variable(img) # ++++++++\n",
    "    out = model(img)\n",
    "    #loss = criterion(out, img)\n",
    "    loss = criterion(out, img)\n",
    "    \n",
    "    optimizer.zero_grad()\n",
    "    loss.backward()\n",
    "    optimizer.step()\n",
    "    \n",
    "    #total_image = scipy.misc.toimage(to_image(out).data, cmin=0.0, cmax=1.0).save('./{}.jpg'.format(epoch))\n",
    "    if epoch % 200 ==0:\n",
    "        print('epoch {}, loss: {:.6f}'.format(epoch, loss.item()))\n",
    "        #total_image = scipy.misc.toimage(to_image(out.data), cmin=0.0, cmax=1.0).save('./{}.jpg'.format(epoch))\n",
    "        save_image(to_image(out.data), './lr_10_loss_no_ave/{}.png'.format(epoch))\n",
    "    if epoch==num:\n",
    "        break"
   ]
  },
  {
   "cell_type": "code",
   "execution_count": 33,
   "metadata": {},
   "outputs": [
    {
     "name": "stdout",
     "output_type": "stream",
     "text": [
      "epoch 200, loss: 22319.419922\n",
      "epoch 400, loss: 23899.660156\n",
      "epoch 600, loss: 22621.236328\n",
      "epoch 800, loss: 23093.201172\n"
     ]
    }
   ],
   "source": [
    "model = autoencoder()\n",
    "criterion = nn.MSELoss(size_average=False)\n",
    "#criterion = nn.MSELoss()\n",
    "optimizer = optim.SGD(model.parameters(), lr = 0.01)\n",
    "model.train()\n",
    "num = 500\n",
    "epoch = 0;\n",
    "for img, label in train_loader:\n",
    "    epoch += 1\n",
    "    img = Variable(img) # ++++++++\n",
    "    out = model(img)\n",
    "    loss = criterion(out, img)\n",
    "    \n",
    "    optimizer.zero_grad()\n",
    "    loss.backward()\n",
    "    optimizer.step()\n",
    "    \n",
    "    #total_image = scipy.misc.toimage(to_image(out).data, cmin=0.0, cmax=1.0).save('./{}.jpg'.format(epoch))\n",
    "    if epoch % 10 ==0:\n",
    "        print('epoch {}, loss: {:.6f}'.format(epoch, loss.item()))\n",
    "        #total_image = scipy.misc.toimage(to_image(out.data), cmin=0.0, cmax=1.0).save('./{}.jpg'.format(epoch))\n",
    "        save_image(to_image(out.data), './lr_10/{}.png'.format(epoch))\n",
    "    if epoch==num:\n",
    "        break"
   ]
  }
 ],
 "metadata": {
  "kernelspec": {
   "display_name": "Python 3",
   "language": "python",
   "name": "python3"
  },
  "language_info": {
   "codemirror_mode": {
    "name": "ipython",
    "version": 3
   },
   "file_extension": ".py",
   "mimetype": "text/x-python",
   "name": "python",
   "nbconvert_exporter": "python",
   "pygments_lexer": "ipython3",
   "version": "3.6.7rc1"
  }
 },
 "nbformat": 4,
 "nbformat_minor": 2
}
