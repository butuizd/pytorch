{
 "cells": [
  {
   "cell_type": "code",
   "execution_count": 1,
   "metadata": {},
   "outputs": [],
   "source": [
    "import os\n",
    "\n",
    "import torch\n",
    "from torch.autograd import Variable\n",
    "from torch import nn\n",
    "from torch.utils.data import DataLoader\n",
    "\n",
    "from torchvision.datasets import MNIST\n",
    "from torchvision import transforms as tfs\n",
    "from torchvision.utils import save_image"
   ]
  },
  {
   "cell_type": "code",
   "execution_count": 8,
   "metadata": {},
   "outputs": [],
   "source": [
    "im_tfs = tfs.Compose([\n",
    "    tfs.ToTensor(),\n",
    "    tfs.Normalize([0.5, 0.5, 0.5], [0.5, 0.5, 0.5]) # 标准化\n",
    "])\n",
    "\n",
    "train_set = MNIST('./data', transform=im_tfs)\n",
    "train_data = DataLoader(train_set, batch_size=128, shuffle=True)"
   ]
  },
  {
   "cell_type": "code",
   "execution_count": 3,
   "metadata": {},
   "outputs": [],
   "source": [
    "# 定义网络\n",
    "class autoencoder(nn.Module):\n",
    "    def __init__(self):\n",
    "        super(autoencoder, self).__init__()\n",
    "        \n",
    "        self.encoder = nn.Sequential(\n",
    "            nn.Linear(28*28, 128),\n",
    "            nn.ReLU(True),\n",
    "            nn.Linear(128, 64),\n",
    "            nn.ReLU(True),\n",
    "            nn.Linear(64, 12),\n",
    "            nn.ReLU(True),\n",
    "            nn.Linear(12, 3) # 输出的 code 是 3 维，便于可视化\n",
    "        )\n",
    "        \n",
    "        self.decoder = nn.Sequential(\n",
    "            nn.Linear(3, 12),\n",
    "            nn.ReLU(True),\n",
    "            nn.Linear(12, 64),\n",
    "            nn.ReLU(True),\n",
    "            nn.Linear(64, 128),\n",
    "            nn.ReLU(True),\n",
    "            nn.Linear(128, 28*28),\n",
    "            nn.Tanh()\n",
    "        )\n",
    "\n",
    "    def forward(self, x):\n",
    "        encode = self.encoder(x)\n",
    "        decode = self.decoder(encode)\n",
    "        return encode, decode"
   ]
  },
  {
   "cell_type": "code",
   "execution_count": 9,
   "metadata": {},
   "outputs": [
    {
     "name": "stdout",
     "output_type": "stream",
     "text": [
      "torch.Size([1, 3])\n"
     ]
    }
   ],
   "source": [
    "net = autoencoder()\n",
    "x = Variable(torch.randn(1, 28*28)) # batch size 是 1\n",
    "code, _ = net(x)\n",
    "print(code.shape)"
   ]
  },
  {
   "cell_type": "code",
   "execution_count": 11,
   "metadata": {},
   "outputs": [],
   "source": [
    "criterion = nn.MSELoss(size_average=False)\n",
    "optimizer = torch.optim.Adam(net.parameters(), lr=1e-3)\n",
    "\n",
    "def to_img(x):\n",
    "    '''\n",
    "    定义一个函数将最后的结果转换回图片\n",
    "    '''\n",
    "    x = 0.5 * (x + 1.)\n",
    "    x = x.clamp(0, 1)\n",
    "    x = x.view(x.shape[0], 1, 28, 28)\n",
    "    return x"
   ]
  },
  {
   "cell_type": "code",
   "execution_count": null,
   "metadata": {},
   "outputs": [],
   "source": [
    "len(train_data)"
   ]
  },
  {
   "cell_type": "code",
   "execution_count": 6,
   "metadata": {},
   "outputs": [
    {
     "name": "stdout",
     "output_type": "stream",
     "text": [
      "torch.Size([64, 1, 28, 28]) \n",
      " tensor([[[[0.5332, 0.5108, 0.4923,  ..., 0.5340, 0.4745, 0.4702],\n",
      "          [0.5226, 0.4647, 0.5165,  ..., 0.5179, 0.4789, 0.5166],\n",
      "          [0.5172, 0.4436, 0.5318,  ..., 0.4353, 0.4814, 0.5088],\n",
      "          ...,\n",
      "          [0.5099, 0.5157, 0.4605,  ..., 0.4733, 0.5117, 0.4362],\n",
      "          [0.4696, 0.5391, 0.5302,  ..., 0.4428, 0.4680, 0.5378],\n",
      "          [0.5130, 0.5206, 0.4384,  ..., 0.5371, 0.5345, 0.5153]]],\n",
      "\n",
      "\n",
      "        [[[0.5334, 0.5107, 0.4921,  ..., 0.5342, 0.4749, 0.4703],\n",
      "          [0.5228, 0.4646, 0.5166,  ..., 0.5178, 0.4787, 0.5171],\n",
      "          [0.5174, 0.4434, 0.5318,  ..., 0.4348, 0.4817, 0.5095],\n",
      "          ...,\n",
      "          [0.5101, 0.5158, 0.4606,  ..., 0.4730, 0.5116, 0.4364],\n",
      "          [0.4694, 0.5390, 0.5301,  ..., 0.4427, 0.4681, 0.5378],\n",
      "          [0.5127, 0.5208, 0.4386,  ..., 0.5367, 0.5343, 0.5156]]],\n",
      "\n",
      "\n",
      "        [[[0.5335, 0.5105, 0.4918,  ..., 0.5341, 0.4747, 0.4703],\n",
      "          [0.5229, 0.4649, 0.5167,  ..., 0.5176, 0.4789, 0.5166],\n",
      "          [0.5172, 0.4433, 0.5315,  ..., 0.4351, 0.4817, 0.5095],\n",
      "          ...,\n",
      "          [0.5098, 0.5158, 0.4604,  ..., 0.4732, 0.5120, 0.4360],\n",
      "          [0.4693, 0.5394, 0.5300,  ..., 0.4425, 0.4683, 0.5381],\n",
      "          [0.5130, 0.5208, 0.4384,  ..., 0.5368, 0.5345, 0.5158]]],\n",
      "\n",
      "\n",
      "        ...,\n",
      "\n",
      "\n",
      "        [[[0.5334, 0.5106, 0.4920,  ..., 0.5344, 0.4751, 0.4703],\n",
      "          [0.5228, 0.4645, 0.5167,  ..., 0.5178, 0.4786, 0.5174],\n",
      "          [0.5175, 0.4433, 0.5320,  ..., 0.4347, 0.4818, 0.5099],\n",
      "          ...,\n",
      "          [0.5102, 0.5158, 0.4607,  ..., 0.4729, 0.5115, 0.4365],\n",
      "          [0.4693, 0.5388, 0.5301,  ..., 0.4427, 0.4680, 0.5378],\n",
      "          [0.5126, 0.5208, 0.4387,  ..., 0.5365, 0.5342, 0.5158]]],\n",
      "\n",
      "\n",
      "        [[[0.5340, 0.5105, 0.4911,  ..., 0.5346, 0.4751, 0.4705],\n",
      "          [0.5235, 0.4645, 0.5168,  ..., 0.5171, 0.4786, 0.5178],\n",
      "          [0.5174, 0.4429, 0.5313,  ..., 0.4341, 0.4824, 0.5110],\n",
      "          ...,\n",
      "          [0.5101, 0.5158, 0.4606,  ..., 0.4725, 0.5121, 0.4359],\n",
      "          [0.4688, 0.5393, 0.5300,  ..., 0.4421, 0.4684, 0.5383],\n",
      "          [0.5129, 0.5213, 0.4387,  ..., 0.5357, 0.5342, 0.5167]]],\n",
      "\n",
      "\n",
      "        [[[0.5329, 0.5107, 0.4928,  ..., 0.5340, 0.4750, 0.4701],\n",
      "          [0.5223, 0.4646, 0.5165,  ..., 0.5183, 0.4787, 0.5168],\n",
      "          [0.5175, 0.4437, 0.5322,  ..., 0.4353, 0.4813, 0.5086],\n",
      "          ...,\n",
      "          [0.5101, 0.5159, 0.4605,  ..., 0.4733, 0.5112, 0.4368],\n",
      "          [0.4697, 0.5387, 0.5303,  ..., 0.4430, 0.4678, 0.5375],\n",
      "          [0.5127, 0.5205, 0.4387,  ..., 0.5373, 0.5344, 0.5149]]]])\n"
     ]
    }
   ],
   "source": [
    "for im, _ in train_data:\n",
    "    im = im.view(im.shape[0], -1)\n",
    "    _, out = net(im)\n",
    "    break\n",
    "#print(out.size(),'\\n',out)\n",
    "x = to_img(out.data)\n",
    "print(x.size(),'\\n', x)"
   ]
  },
  {
   "cell_type": "code",
   "execution_count": 12,
   "metadata": {},
   "outputs": [
    {
     "name": "stdout",
     "output_type": "stream",
     "text": [
      "epoch: 100, Loss: 207.3728\n",
      "epoch: 200, Loss: 188.3503\n",
      "epoch: 300, Loss: 168.4754\n",
      "epoch: 400, Loss: 163.0545\n"
     ]
    }
   ],
   "source": [
    "# 开始训练自动编码器\n",
    "#for e in range(100):\n",
    "e = 0\n",
    "for im, _ in train_data:\n",
    "    e += 1\n",
    "    im = im.view(im.shape[0], -1)\n",
    "    im = Variable(im)\n",
    "        # 前向传播\n",
    "    _, output = net(im)\n",
    "    loss = criterion(output, im) / im.shape[0] # 平均\n",
    "        # 反向传播\n",
    "    optimizer.zero_grad()\n",
    "    loss.backward() \n",
    "        #print(1)\n",
    "    optimizer.step()\n",
    "        #print(2)\n",
    "    if e % 100 == 0: # 每 20 次，将生成的图片保存一下\n",
    "        print('epoch: {}, Loss: {:.4f}'.format(e, loss.item()))\n",
    "        pic = to_img(output.data)\n",
    "        if not os.path.exists('./std'):\n",
    "            os.mkdir('./std')\n",
    "        save_image(pic, './std/image_{}.png'.format(e))"
   ]
  },
  {
   "cell_type": "code",
   "execution_count": 15,
   "metadata": {},
   "outputs": [],
   "source": [
    "from torch import Tensor"
   ]
  },
  {
   "cell_type": "code",
   "execution_count": 32,
   "metadata": {},
   "outputs": [],
   "source": [
    "for i in range(50):\n",
    "    a = Variable(torch.randn(1,28*28).clamp(-1,1))\n",
    "    _ ,img = net(a)\n",
    "    img = to_img(img.data)\n",
    "    save_image(img, './test{}.png'.format(i+1))\n",
    "    "
   ]
  },
  {
   "cell_type": "code",
   "execution_count": 23,
   "metadata": {},
   "outputs": [],
   "source": [
    "a = Variable(torch.randn(1,10).clamp())\n",
    "_ ,img = net(a)\n",
    "img = to_img(img.data)\n",
    "save_image(img, './test_1.png')"
   ]
  },
  {
   "cell_type": "code",
   "execution_count": 31,
   "metadata": {},
   "outputs": [
    {
     "name": "stdout",
     "output_type": "stream",
     "text": [
      "tensor([[-0.3501,  0.2911,  0.8022, -0.0199,  0.2474,  1.7094,  0.0311,  1.3327,\n",
      "         -0.9180,  1.5430]])\n",
      "tensor([[-0.3501,  0.2911,  0.8022, -0.0199,  0.2474,  1.0000,  0.0311,  1.0000,\n",
      "         -0.9180,  1.0000]])\n"
     ]
    }
   ],
   "source": [
    "a = Variable(torch.randn(1,10))\n",
    "print(a)\n",
    "a = a.clamp(-1,1)\n",
    "print(a)"
   ]
  }
 ],
 "metadata": {
  "kernelspec": {
   "display_name": "Python 3",
   "language": "python",
   "name": "python3"
  },
  "language_info": {
   "codemirror_mode": {
    "name": "ipython",
    "version": 3
   },
   "file_extension": ".py",
   "mimetype": "text/x-python",
   "name": "python",
   "nbconvert_exporter": "python",
   "pygments_lexer": "ipython3",
   "version": "3.6.7rc1"
  }
 },
 "nbformat": 4,
 "nbformat_minor": 2
}
