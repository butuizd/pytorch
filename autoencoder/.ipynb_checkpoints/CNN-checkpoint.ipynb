{
 "cells": [
  {
   "cell_type": "markdown",
   "metadata": {},
   "source": [
    "# 自动编码器"
   ]
  },
  {
   "cell_type": "code",
   "execution_count": 1,
   "metadata": {},
   "outputs": [],
   "source": [
    "batch_size = 64\n",
    "from torchvision import datasets, transforms\n",
    "from torch.utils.data import DataLoader\n",
    "data_tf = transforms.Compose([transforms.ToTensor(), transforms.Normalize([0.5], [0.5])])\n",
    "\n",
    "# train属性是区别并对应加载训练集和测试机\n",
    "train_dataset = datasets.MNIST(root='./data', train=True, transform=data_tf)\n",
    "train_loader = DataLoader(train_dataset, batch_size=batch_size, shuffle=True)"
   ]
  },
  {
   "cell_type": "code",
   "execution_count": 2,
   "metadata": {},
   "outputs": [],
   "source": [
    "from torch import nn"
   ]
  },
  {
   "cell_type": "code",
   "execution_count": 6,
   "metadata": {},
   "outputs": [],
   "source": [
    "class DCautoencoder(nn.Module):\n",
    "    def __init__(self):\n",
    "        super(DCautoencoder, self).__init__()\n",
    "        self.encoder = nn.Sequential(\n",
    "            nn.Conv2d(1, 16, 3, 3, 1), # 16@10*10\n",
    "            nn.ReLU(True),\n",
    "            nn.MaxPool2d(2, 2), # 16@5*5\n",
    "            nn.Conv2d(16, 8, 3, 2, 1), # 8@3*3\n",
    "            nn.ReLU(True),\n",
    "            nn.MaxPool2d(2, 1) # 8@2*2\n",
    "        )\n",
    "        self.decoder = nn.Sequential(\n",
    "            nn.ConvTranspose2d(8, 16, 3, 2), # 16@5*5\n",
    "            nn.ReLU(True),\n",
    "            nn.ConvTranspose2d(16, 8, 5, 3, 1), # 8@15*15\n",
    "            nn.ReLU(True),\n",
    "            nn.ConvTranspose2d(8, 1, 2, 2, 1), # 1@28*28\n",
    "            nn.Tanh()\n",
    "        )\n",
    "    \n",
    "    def forward(self, x):\n",
    "        x = self.encoder(x)\n",
    "        x = self.decoder(x)\n",
    "        return x"
   ]
  },
  {
   "cell_type": "code",
   "execution_count": 8,
   "metadata": {},
   "outputs": [],
   "source": [
    "def to_image(x):\n",
    "    '''\n",
    "    定义一个函数将最后的结果转换回图片\n",
    "    \n",
    "    每个值在 -1 ~ 1，需要将其转变成0~1\n",
    "    '''\n",
    "    \n",
    "    x = 0.5 * (x + 1.)\n",
    "    #x = x.clamp(0, 1)\n",
    "    x = x.view(x.shape[0], 1, 28, 28)\n",
    "    return x"
   ]
  },
  {
   "cell_type": "code",
   "execution_count": 9,
   "metadata": {},
   "outputs": [],
   "source": [
    "from torch import optim\n",
    "from torch.autograd import Variable\n",
    "from torchvision.utils import save_image"
   ]
  },
  {
   "cell_type": "code",
   "execution_count": 7,
   "metadata": {},
   "outputs": [],
   "source": [
    "model = DCautoencoder()\n",
    "criterion = nn.MSELoss(size_average=False)\n",
    "#criterion = nn.MSELoss()\n",
    "optimizer = optim.SGD(model.parameters(), lr = 0.01)\n",
    "model.train()\n",
    "num = 500\n",
    "epoch = 0;\n",
    "for img, label in train_loader:\n",
    "    epoch += 1\n",
    "    img = Variable(img) # ++++++++\n",
    "    out = model(img)\n",
    "    loss = criterion(out, img)\n",
    "    \n",
    "    optimizer.zero_grad()\n",
    "    loss.backward()\n",
    "    optimizer.step()\n",
    "    \n",
    "    if epoch % 50 ==0:\n",
    "        print('epoch {}, loss: {:.6f}'.format(epoch, loss.item()))\n",
    "        #total_image = scipy.misc.toimage(to_image(out.data), cmin=0.0, cmax=1.0).save('./{}.jpg'.format(epoch))\n",
    "        save_image(to_image(out.data), './lr_10/{}.png'.format(epoch))\n",
    "    if epoch==num:\n",
    "        break"
   ]
  },
  {
   "cell_type": "code",
   "execution_count": null,
   "metadata": {},
   "outputs": [],
   "source": []
  }
 ],
 "metadata": {
  "kernelspec": {
   "display_name": "Python 3",
   "language": "python",
   "name": "python3"
  },
  "language_info": {
   "codemirror_mode": {
    "name": "ipython",
    "version": 3
   },
   "file_extension": ".py",
   "mimetype": "text/x-python",
   "name": "python",
   "nbconvert_exporter": "python",
   "pygments_lexer": "ipython3",
   "version": "3.6.7rc1"
  }
 },
 "nbformat": 4,
 "nbformat_minor": 2
}
