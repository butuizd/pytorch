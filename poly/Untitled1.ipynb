{
 "cells": [
  {
   "cell_type": "code",
   "execution_count": 1,
   "metadata": {},
   "outputs": [
    {
     "name": "stdout",
     "output_type": "stream",
     "text": [
      "tensor([ 0.3194, -0.5695,  1.1641], requires_grad=True)\n",
      "tensor([ 0.6389, -1.1389,  2.3283], grad_fn=<MulBackward0>)\n",
      "tensor([2.0000, 0.2000, 0.0200])\n"
     ]
    }
   ],
   "source": [
    "import torch as tt\n",
    "from torch.autograd import Variable as variable\n",
    "\n",
    "\n",
    "x = tt.autograd.Variable(tt.randn((3)), requires_grad=True)\n",
    "w = variable(tt.Tensor([2]), requires_grad=True)\n",
    "b = variable(tt.Tensor([3]), requires_grad=True)\n",
    "\n",
    "x = variable(tt.randn(3), requires_grad = True)\n",
    "print(x)\n",
    "y = 2 * x\n",
    "print(y)\n",
    "y.backward(tt.Tensor([1, 0.1, 0.01]))\n",
    "print(x.grad)\n"
   ]
  }
 ],
 "metadata": {
  "kernelspec": {
   "display_name": "Python 3",
   "language": "python",
   "name": "python3"
  },
  "language_info": {
   "codemirror_mode": {
    "name": "ipython",
    "version": 3
   },
   "file_extension": ".py",
   "mimetype": "text/x-python",
   "name": "python",
   "nbconvert_exporter": "python",
   "pygments_lexer": "ipython3",
   "version": "3.6.7rc1"
  }
 },
 "nbformat": 4,
 "nbformat_minor": 2
}
