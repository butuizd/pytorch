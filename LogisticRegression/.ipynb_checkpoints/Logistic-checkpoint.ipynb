{
 "cells": [
  {
   "cell_type": "markdown",
   "metadata": {},
   "source": [
    "#### 生成数据"
   ]
  },
  {
   "cell_type": "code",
   "execution_count": 19,
   "metadata": {},
   "outputs": [],
   "source": [
    "# make data line: y = x\n",
    "import random\n",
    "x_0 = []\n",
    "y_0 = []\n",
    "while len(x_0) < 10:\n",
    "    x = random.randint(100,999)\n",
    "    y = random.randint(100,999)\n",
    "    if x < y:\n",
    "        x_0.append(x)\n",
    "        y_0.append(y)\n",
    "\n",
    "x_1 = []\n",
    "y_1 = []\n",
    "while len(x_1) < 10:\n",
    "    x = random.randint(100,999)\n",
    "    y = random.randint(100,999)\n",
    "    if x > y:\n",
    "        x_1.append(x)\n",
    "        y_1.append(y)"
   ]
  },
  {
   "cell_type": "code",
   "execution_count": 21,
   "metadata": {},
   "outputs": [
    {
     "name": "stdout",
     "output_type": "stream",
     "text": [
      "x_0:[58.0, 29.0, 34.3, 66.1, 15.1, 51.1, 37.8, 57.5, 57.5, 17.6]\n",
      "y_0:[90.7, 55.0, 65.7, 75.5, 57.3, 68.8, 93.9, 72.2, 91.6, 83.7]\n",
      "\n",
      "x_1:[55.4, 98.2, 80.9, 54.2, 31.4, 71.3, 66.8, 71.4, 75.7, 64.0]\n",
      "y_1:[46.5, 90.3, 39.3, 11.1, 10.7, 48.9, 49.8, 58.5, 48.2, 10.7]\n"
     ]
    }
   ],
   "source": [
    "\n",
    "x_0 = [i/10 for i in x_0]\n",
    "y_0 = [i/10 for i in y_0]\n",
    "x_1 = [i/10 for i in x_1]\n",
    "y_1 = [i/10 for i in y_1]\n",
    "\n",
    "print(\"x_0:{}\\ny_0:{}\\n\\nx_1:{}\\ny_1:{}\".format(x_0,y_0,x_1,y_1))"
   ]
  },
  {
   "cell_type": "code",
   "execution_count": 26,
   "metadata": {},
   "outputs": [
    {
     "data": {
      "image/png": "[encoded data removed]",
      "text/plain": [
       "<Figure size 432x288 with 1 Axes>"
      ]
     },
     "metadata": {
      "needs_background": "light"
     },
     "output_type": "display_data"
    }
   ],
   "source": [
    "import matplotlib.pyplot as plt\n",
    "plt.plot(x_0, y_0, 'ro', label = 'a')\n",
    "plt.plot(x_1, y_1, 'bo', label = 'b')\n",
    "plt.legend(loc='best')\n",
    "plt.show()"
   ]
  },
  {
   "cell_type": "markdown",
   "metadata": {},
   "source": [
    "#### 模型"
   ]
  },
  {
   "cell_type": "code",
   "execution_count": 32,
   "metadata": {},
   "outputs": [],
   "source": [
    "from torch import nn\n",
    "class LogisticRegression(nn.Module):\n",
    "    def __init__(self):\n",
    "        super(LogisticRegression, self).__init__()\n",
    "        self.lr = nn.Linear(2,1)\n",
    "        self.sm = nn.Sigmoid()\n",
    "        \n",
    "    def forward(self):\n",
    "        x = self.lr(x)\n",
    "        x = self.sm(x)\n",
    "        return x"
   ]
  },
  {
   "cell_type": "markdown",
   "metadata": {},
   "source": [
    "#### 损失函数和优化函数"
   ]
  },
  {
   "cell_type": "code",
   "execution_count": 36,
   "metadata": {},
   "outputs": [],
   "source": [
    "from torch import optim\n",
    "\n",
    "model = LogisticRegression()\n",
    "# nn.BCELoss 是二分类的损失函数\n",
    "criterion = nn.BCELoss()\n",
    "# 随机梯度下降优化函数，参数分别是：模型参数 学习率 动量\n",
    "optimizer = optim.SGD(model.parameters(), lr=1e-3, momentum=0.9) "
   ]
  },
  {
   "cell_type": "markdown",
   "metadata": {},
   "source": [
    "#### 数据处理"
   ]
  },
  {
   "cell_type": "code",
   "execution_count": 52,
   "metadata": {},
   "outputs": [
    {
     "data": {
      "text/plain": [
       "[[80.9, 39.3, 1],\n",
       " [57.5, 72.2, 0],\n",
       " [71.3, 48.9, 1],\n",
       " [31.4, 10.7, 1],\n",
       " [55.4, 46.5, 1],\n",
       " [66.8, 49.8, 1],\n",
       " [57.5, 91.6, 0],\n",
       " [15.1, 57.3, 0],\n",
       " [51.1, 68.8, 0],\n",
       " [98.2, 90.3, 1],\n",
       " [66.1, 75.5, 0],\n",
       " [54.2, 11.1, 1],\n",
       " [29.0, 55.0, 0],\n",
       " [71.4, 58.5, 1],\n",
       " [37.8, 93.9, 0],\n",
       " [58.0, 90.7, 0],\n",
       " [75.7, 48.2, 1],\n",
       " [34.3, 65.7, 0]]"
      ]
     },
     "execution_count": 52,
     "metadata": {},
     "output_type": "execute_result"
    }
   ],
   "source": [
    "from torch import Tensor\n",
    "# a\n",
    "train_data = [[x_0[i], y_0[i] , 0] for i in range(0,9)]  \n",
    "#b\n",
    "train_data = train_data + [[x_1[i], y_1[i] ,1] for i in range(0,9)]\n",
    "random.shuffle(train_data)\n",
    "train_data"
   ]
  },
  {
   "cell_type": "code",
   "execution_count": 60,
   "metadata": {},
   "outputs": [
    {
     "data": {
      "text/plain": [
       "tensor([[1.],\n",
       "        [0.],\n",
       "        [1.],\n",
       "        [1.],\n",
       "        [1.],\n",
       "        [1.],\n",
       "        [0.],\n",
       "        [0.],\n",
       "        [0.],\n",
       "        [1.],\n",
       "        [0.],\n",
       "        [1.],\n",
       "        [0.],\n",
       "        [1.],\n",
       "        [0.],\n",
       "        [0.],\n",
       "        [1.],\n",
       "        [0.]])"
      ]
     },
     "execution_count": 60,
     "metadata": {},
     "output_type": "execute_result"
    }
   ],
   "source": [
    "train_input = [[i[0], i[1]] for i in train_data]\n",
    "#train_input\n",
    "train_output = [[i[2]] for i in train_data]\n",
    "#train_output\n",
    "train_input = Tensor(train_input)\n",
    "train_output = Tensor(train_output)\n",
    "train_output"
   ]
  },
  {
   "cell_type": "markdown",
   "metadata": {},
   "source": [
    "#### 训练"
   ]
  },
  {
   "cell_type": "code",
   "execution_count": 57,
   "metadata": {},
   "outputs": [],
   "source": [
    "from torch.autograd import Variable"
   ]
  },
  {
   "cell_type": "code",
   "execution_count": null,
   "metadata": {},
   "outputs": [],
   "source": [
    "num = 1000\n",
    "for epoch in range(num):\n",
    "    #forward\n",
    "    '''\n",
    "        输入数据的requires_grad = False(默认)，因为不需要对数据进行改变，要改什么才对其求导，比如权重矩阵\n",
    "    '''\n",
    "    inputs = Variable(train_input)\n",
    "    "
   ]
  }
 ],
 "metadata": {
  "kernelspec": {
   "display_name": "Python 3",
   "language": "python",
   "name": "python3"
  },
  "language_info": {
   "codemirror_mode": {
    "name": "ipython",
    "version": 3
   },
   "file_extension": ".py",
   "mimetype": "text/x-python",
   "name": "python",
   "nbconvert_exporter": "python",
   "pygments_lexer": "ipython3",
   "version": "3.6.7rc1"
  }
 },
 "nbformat": 4,
 "nbformat_minor": 2
}
