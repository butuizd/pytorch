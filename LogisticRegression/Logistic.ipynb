{
 "cells": [
  {
   "cell_type": "markdown",
   "metadata": {},
   "source": [
    "# 二分类的Logistic回归"
   ]
  },
  {
   "cell_type": "markdown",
   "metadata": {},
   "source": [
    "关键词：sigmoid、(2,1)的单层线性模型"
   ]
  },
  {
   "cell_type": "markdown",
   "metadata": {},
   "source": [
    "#### 生成数据"
   ]
  },
  {
   "cell_type": "code",
   "execution_count": 19,
   "metadata": {},
   "outputs": [],
   "source": [
    "# make data line: y = x\n",
    "import random\n",
    "x_0 = []\n",
    "y_0 = []\n",
    "while len(x_0) < 10:\n",
    "    x = random.randint(100,999)\n",
    "    y = random.randint(100,999)\n",
    "    if x < y:\n",
    "        x_0.append(x)\n",
    "        y_0.append(y)\n",
    "\n",
    "x_1 = []\n",
    "y_1 = []\n",
    "while len(x_1) < 10:\n",
    "    x = random.randint(100,999)\n",
    "    y = random.randint(100,999)\n",
    "    if x > y:\n",
    "        x_1.append(x)\n",
    "        y_1.append(y)"
   ]
  },
  {
   "cell_type": "code",
   "execution_count": 21,
   "metadata": {},
   "outputs": [
    {
     "name": "stdout",
     "output_type": "stream",
     "text": [
      "x_0:[58.0, 29.0, 34.3, 66.1, 15.1, 51.1, 37.8, 57.5, 57.5, 17.6]\n",
      "y_0:[90.7, 55.0, 65.7, 75.5, 57.3, 68.8, 93.9, 72.2, 91.6, 83.7]\n",
      "\n",
      "x_1:[55.4, 98.2, 80.9, 54.2, 31.4, 71.3, 66.8, 71.4, 75.7, 64.0]\n",
      "y_1:[46.5, 90.3, 39.3, 11.1, 10.7, 48.9, 49.8, 58.5, 48.2, 10.7]\n"
     ]
    }
   ],
   "source": [
    "\n",
    "x_0 = [i/10 for i in x_0]\n",
    "y_0 = [i/10 for i in y_0]\n",
    "x_1 = [i/10 for i in x_1]\n",
    "y_1 = [i/10 for i in y_1]\n",
    "\n",
    "print(\"x_0:{}\\ny_0:{}\\n\\nx_1:{}\\ny_1:{}\".format(x_0,y_0,x_1,y_1))"
   ]
  },
  {
   "cell_type": "code",
   "execution_count": 99,
   "metadata": {},
   "outputs": [],
   "source": [
    "x_0 = [34.6, 30.2, 35.8, 45.0, 95.8, 75.0, 39.5, 67.9]\n",
    "y_0 = [78.0, 43.8, 72.9, 56.3, 38.2, 30.6, 76.0, 46.6]\n",
    "x_1 = [60.1, 79.0, 61.1, 75.0, 76.0, 84.4, 82.3, 69.3, 53.9, 69.0]\n",
    "y_1 = [86.3, 75.3, 96.5, 46.5, 87.4, 43.5, 76.4, 97.7, 89.2, 52.7]"
   ]
  },
  {
   "cell_type": "code",
   "execution_count": 100,
   "metadata": {},
   "outputs": [
    {
     "data": {
      "image/png": "[encoded data removed]",
      "text/plain": [
       "<Figure size 432x288 with 1 Axes>"
      ]
     },
     "metadata": {
      "needs_background": "light"
     },
     "output_type": "display_data"
    }
   ],
   "source": [
    "import matplotlib.pyplot as plt\n",
    "plt.plot(x_0, y_0, 'ro', label = 'a')\n",
    "plt.plot(x_1, y_1, 'bo', label = 'b')\n",
    "plt.legend(loc='best')\n",
    "plt.show()"
   ]
  },
  {
   "cell_type": "markdown",
   "metadata": {},
   "source": [
    "#### 模型"
   ]
  },
  {
   "cell_type": "code",
   "execution_count": 101,
   "metadata": {},
   "outputs": [],
   "source": [
    "from torch import nn\n",
    "class LogisticRegression(nn.Module):\n",
    "    def __init__(self):\n",
    "        super(LogisticRegression, self).__init__()\n",
    "        self.lr = nn.Linear(2,1)\n",
    "        self.sm = nn.Sigmoid()\n",
    "        \n",
    "    def forward(self, x):\n",
    "        x = self.lr(x)\n",
    "        x = self.sm(x)\n",
    "        return x"
   ]
  },
  {
   "cell_type": "markdown",
   "metadata": {},
   "source": [
    "#### 数据处理"
   ]
  },
  {
   "cell_type": "code",
   "execution_count": 109,
   "metadata": {},
   "outputs": [
    {
     "data": {
      "text/plain": [
       "[[60.1, 86.3, 1],\n",
       " [35.8, 72.9, 0],\n",
       " [69.0, 52.7, 1],\n",
       " [84.4, 43.5, 1],\n",
       " [61.1, 96.5, 1],\n",
       " [34.6, 78.0, 0],\n",
       " [75.0, 30.6, 0],\n",
       " [79.0, 75.3, 1],\n",
       " [76.0, 87.4, 1],\n",
       " [69.3, 97.7, 1],\n",
       " [30.2, 43.8, 0],\n",
       " [45.0, 56.3, 0],\n",
       " [75.0, 46.5, 1],\n",
       " [95.8, 38.2, 0],\n",
       " [53.9, 89.2, 1],\n",
       " [39.5, 76.0, 0],\n",
       " [67.9, 46.6, 0],\n",
       " [82.3, 76.4, 1]]"
      ]
     },
     "execution_count": 109,
     "metadata": {},
     "output_type": "execute_result"
    }
   ],
   "source": [
    "from torch import Tensor\n",
    "# a\n",
    "train_data = [[x_0[i], y_0[i] , 0] for i in range(len(x_0))]  \n",
    "#b\n",
    "train_data = train_data + [[x_1[i], y_1[i] ,1] for i in range(len(x_1))]\n",
    "random.shuffle(train_data)\n",
    "train_data"
   ]
  },
  {
   "cell_type": "code",
   "execution_count": 110,
   "metadata": {},
   "outputs": [
    {
     "data": {
      "text/plain": [
       "tensor([[60.1000, 86.3000],\n",
       "        [35.8000, 72.9000],\n",
       "        [69.0000, 52.7000],\n",
       "        [84.4000, 43.5000],\n",
       "        [61.1000, 96.5000],\n",
       "        [34.6000, 78.0000],\n",
       "        [75.0000, 30.6000],\n",
       "        [79.0000, 75.3000],\n",
       "        [76.0000, 87.4000],\n",
       "        [69.3000, 97.7000],\n",
       "        [30.2000, 43.8000],\n",
       "        [45.0000, 56.3000],\n",
       "        [75.0000, 46.5000],\n",
       "        [95.8000, 38.2000],\n",
       "        [53.9000, 89.2000],\n",
       "        [39.5000, 76.0000],\n",
       "        [67.9000, 46.6000],\n",
       "        [82.3000, 76.4000]])"
      ]
     },
     "execution_count": 110,
     "metadata": {},
     "output_type": "execute_result"
    }
   ],
   "source": [
    "train_input = [[i[0], i[1]] for i in train_data]\n",
    "#train_input\n",
    "train_output = [[i[2]] for i in train_data]\n",
    "#train_output\n",
    "train_input = Tensor(train_input)\n",
    "train_output = Tensor(train_output)\n",
    "train_input"
   ]
  },
  {
   "cell_type": "markdown",
   "metadata": {},
   "source": [
    "#### 损失函数和优化函数"
   ]
  },
  {
   "cell_type": "code",
   "execution_count": 132,
   "metadata": {},
   "outputs": [],
   "source": [
    "from torch import optim\n",
    "\n",
    "model = LogisticRegression()\n",
    "# nn.BCELoss 是二分类的损失函数\n",
    "criterion = nn.BCELoss()\n",
    "# 随机梯度下降优化函数，参数分别是：模型参数 学习率 动量\n",
    "optimizer = optim.SGD(model.parameters(), lr=1e-3, momentum=0.9) "
   ]
  },
  {
   "cell_type": "markdown",
   "metadata": {},
   "source": [
    "#### 训练"
   ]
  },
  {
   "cell_type": "code",
   "execution_count": 133,
   "metadata": {},
   "outputs": [],
   "source": [
    "from torch.autograd import Variable"
   ]
  },
  {
   "cell_type": "code",
   "execution_count": 134,
   "metadata": {},
   "outputs": [
    {
     "name": "stdout",
     "output_type": "stream",
     "text": [
      "epoch 1000/20000, loss: 0.5809, acc: 0.6111\n",
      "epoch 2000/20000, loss: 0.5506, acc: 0.6667\n",
      "epoch 3000/20000, loss: 0.5246, acc: 0.7778\n",
      "epoch 4000/20000, loss: 0.5024, acc: 0.8333\n",
      "epoch 5000/20000, loss: 0.4831, acc: 0.8333\n",
      "epoch 6000/20000, loss: 0.4663, acc: 0.9444\n",
      "epoch 7000/20000, loss: 0.4516, acc: 0.9444\n",
      "epoch 8000/20000, loss: 0.4387, acc: 0.9444\n",
      "epoch 9000/20000, loss: 0.4272, acc: 0.9444\n",
      "epoch 10000/20000, loss: 0.4169, acc: 0.9444\n",
      "epoch 11000/20000, loss: 0.4077, acc: 0.9444\n",
      "epoch 12000/20000, loss: 0.3994, acc: 0.9444\n",
      "epoch 13000/20000, loss: 0.3918, acc: 0.9444\n",
      "epoch 14000/20000, loss: 0.3850, acc: 0.9444\n",
      "epoch 15000/20000, loss: 0.3788, acc: 0.9444\n",
      "epoch 16000/20000, loss: 0.3730, acc: 0.9444\n",
      "epoch 17000/20000, loss: 0.3678, acc: 0.9444\n",
      "epoch 18000/20000, loss: 0.3630, acc: 0.9444\n",
      "epoch 19000/20000, loss: 0.3585, acc: 0.9444\n",
      "epoch 20000/20000, loss: 0.3543, acc: 0.9444\n"
     ]
    }
   ],
   "source": [
    "num = 20000\n",
    "for epoch in range(num):\n",
    "   #forward\n",
    "    '''\n",
    "        输入数据的requires_grad = False(默认)，因为不需要对数据进行改变，要改什么才对其求导，比如权重矩阵\n",
    "    '''\n",
    "    inputs = Variable(train_input)\n",
    "    label  = Variable(train_output)\n",
    "    out = model(inputs)\n",
    "    loss = criterion(out, label)\n",
    "    \n",
    "    mask = out.ge(0.5).float() \n",
    "    correct = (mask == label).sum() # sum()?\n",
    "    acc = correct.item() / inputs.size(0) ## size(0)?\n",
    "    \n",
    "   #backward\n",
    "    #原有梯度清零 \n",
    "    optimizer.zero_grad()\n",
    "    loss.backward()\n",
    "    optimizer.step()\n",
    "    \n",
    "    if (epoch+1) % 1000 == 0:\n",
    "        print('epoch {}/{}, loss: {:.4f}, acc: {:.4f}'.format(epoch+1,num,loss.item(),acc))"
   ]
  },
  {
   "cell_type": "code",
   "execution_count": 135,
   "metadata": {},
   "outputs": [],
   "source": [
    "import numpy as np"
   ]
  },
  {
   "cell_type": "code",
   "execution_count": 137,
   "metadata": {},
   "outputs": [
    {
     "data": {
      "image/png": "[encoded data removed]",
      "text/plain": [
       "<Figure size 432x288 with 1 Axes>"
      ]
     },
     "metadata": {
      "needs_background": "light"
     },
     "output_type": "display_data"
    }
   ],
   "source": [
    "plt.plot(x_0, y_0, 'ro', label = 'a')\n",
    "plt.plot(x_1, y_1, 'bo', label = 'b')\n",
    "plt.legend(loc='best')\n",
    "\n",
    "w0, w1 = model.lr.weight[0]\n",
    "w0 = w0.item()\n",
    "w1 = w1.item()\n",
    "b = model.lr.bias.item()\n",
    "plot_x = np.arange(0, 100, 0.1)\n",
    "plot_y = (-w0 * plot_x - b) / w1\n",
    "plt.plot(plot_x, plot_y)\n",
    "plt.show()"
   ]
  },
  {
   "cell_type": "markdown",
   "metadata": {},
   "source": [
    "#### 模型保存"
   ]
  },
  {
   "cell_type": "code",
   "execution_count": 141,
   "metadata": {},
   "outputs": [
    {
     "name": "stderr",
     "output_type": "stream",
     "text": [
      "c:\\users\\zd\\appdata\\local\\programs\\python\\python36\\lib\\site-packages\\torch\\serialization.py:250: UserWarning: Couldn't retrieve source code for container of type LogisticRegression. It won't be checked for correctness upon loading.\n",
      "  \"type \" + obj.__name__ + \". It won't be checked \"\n"
     ]
    }
   ],
   "source": [
    "from torch import save\n",
    "save(model,'./model.all')\n",
    "save(model.state_dict(),'./model.state')"
   ]
  },
  {
   "cell_type": "code",
   "execution_count": 142,
   "metadata": {},
   "outputs": [
    {
     "name": "stdout",
     "output_type": "stream",
     "text": [
      "LogisticRegression(\n",
      "  (lr): Linear(in_features=2, out_features=1, bias=True)\n",
      "  (sm): Sigmoid()\n",
      ")\n"
     ]
    }
   ],
   "source": [
    "print(model)"
   ]
  },
  {
   "cell_type": "code",
   "execution_count": 143,
   "metadata": {},
   "outputs": [
    {
     "data": {
      "text/plain": [
       "OrderedDict([('lr.weight', tensor([[0.0640, 0.0595]])),\n",
       "             ('lr.bias', tensor([-7.5468]))])"
      ]
     },
     "execution_count": 143,
     "metadata": {},
     "output_type": "execute_result"
    }
   ],
   "source": [
    "model.state_dict()"
   ]
  }
 ],
 "metadata": {
  "kernelspec": {
   "display_name": "Python 3",
   "language": "python",
   "name": "python3"
  },
  "language_info": {
   "codemirror_mode": {
    "name": "ipython",
    "version": 3
   },
   "file_extension": ".py",
   "mimetype": "text/x-python",
   "name": "python",
   "nbconvert_exporter": "python",
   "pygments_lexer": "ipython3",
   "version": "3.6.7rc1"
  }
 },
 "nbformat": 4,
 "nbformat_minor": 2
}
